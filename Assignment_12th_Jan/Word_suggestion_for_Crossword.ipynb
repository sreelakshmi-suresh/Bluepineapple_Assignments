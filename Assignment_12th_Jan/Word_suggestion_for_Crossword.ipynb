{
  "nbformat": 4,
  "nbformat_minor": 0,
  "metadata": {
    "colab": {
      "name": "Word_suggestion_for_Crossword.ipynb",
      "provenance": [],
      "collapsed_sections": []
    },
    "kernelspec": {
      "name": "python3",
      "display_name": "Python 3"
    },
    "language_info": {
      "name": "python"
    }
  },
  "cells": [
    {
      "cell_type": "code",
      "execution_count": 15,
      "metadata": {
        "id": "_O7hoZOMt0vg"
      },
      "outputs": [],
      "source": [
        "class TrieNode:\n",
        "    \"\"\"A node in the trie structure\"\"\"\n",
        "\n",
        "    def __init__(self, char):\n",
        "        # the character stored in this node\n",
        "        self.char = char\n",
        "\n",
        "        # whether this can be the end of a word\n",
        "        self.word_finished = False\n",
        "\n",
        "        # a counter indicating how many times a word is inserted\n",
        "        # (if this node's word_finished is True)\n",
        "        self.counter = 0\n",
        "\n",
        "        # a dictionary of child nodes\n",
        "        # keys are characters, values are nodes\n",
        "        self.children = {}"
      ]
    },
    {
      "cell_type": "code",
      "source": [
        "class Trie(object):\n",
        "    \"\"\"The trie object\"\"\"\n",
        "\n",
        "    def __init__(self):\n",
        "        \"\"\"\n",
        "        The trie has at least the root node.\n",
        "        The root node does not store any character\n",
        "        \"\"\"\n",
        "        self.root = TrieNode(\"\")\n",
        "    \n",
        "    def insert(self, word):\n",
        "        \"\"\"Insert a word into the trie\"\"\"\n",
        "        node = self.root\n",
        "        \n",
        "        # Loop through each character in the word\n",
        "        # Check if there is no child containing the character, create a new child for the current node\n",
        "        for char in word:\n",
        "          if char in node.children:\n",
        "              node = node.children[char]\n",
        "          else:\n",
        "              # If a character is not found,\n",
        "           # create a new node in the trie\n",
        "           new_node = TrieNode(char)\n",
        "           node.children[char] = new_node\n",
        "           node = new_node\n",
        "        \n",
        "        # Mark the end of a word\n",
        "        node.word_finished = True\n",
        "\n",
        "        # Increment the counter to indicate that we see this word once more\n",
        "        node.counter += 1\n",
        "        \n",
        "    def dfs(self, node, prefix):\n",
        "        \"\"\"Depth-first traversal of the trie\n",
        "        \n",
        "        Args:\n",
        "            - node: the node to start with\n",
        "            - prefix: the current prefix, for tracing a\n",
        "                word while traversing the trie\n",
        "        \"\"\"\n",
        "        if node.word_finished:\n",
        "            self.output.append((prefix + node.char))\n",
        "        \n",
        "        for child in node.children.values():\n",
        "            self.dfs(child, prefix + node.char)\n",
        "        \n",
        "    def query(self, x):\n",
        "        \"\"\"Given an input (a prefix), retrieve all words stored in\n",
        "        the trie with that prefix, sort the words by the number of \n",
        "        times they have been inserted\n",
        "        \"\"\"\n",
        "        # Use a variable within the class to keep all possible outputs\n",
        "        # As there can be more than one word with such prefix\n",
        "        self.output = []\n",
        "        node = self.root\n",
        "        \n",
        "        # Check if the prefix is in the trie\n",
        "        for char in x:\n",
        "            if char in node.children:\n",
        "                node = node.children[char]\n",
        "            else:\n",
        "                # cannot found the prefix, return empty list\n",
        "                return []\n",
        "        \n",
        "        # Traverse the trie to get all candidates\n",
        "        self.dfs(node, x[:-1])\n",
        "\n",
        "        # Sort the results in reverse order and return\n",
        "        #if len(self.output)==y:\n",
        "        return sorted(self.output, key=lambda x: x[1], reverse=True)\n",
        "\n",
        "    def getDictionary(self,y):\n",
        "      dictionaryOpen = open('example.txt','r')\n",
        "      dictionary = dictionaryOpen.read().split()\n",
        "      dictionaryOpen.close()\n",
        "      #return dictionary\n",
        "      for word in dictionary:\n",
        "        if len(word)==y:\n",
        "          self.insert(word)\n"
      ],
      "metadata": {
        "id": "HhYd4g_duGkL"
      },
      "execution_count": 17,
      "outputs": []
    },
    {
      "cell_type": "code",
      "source": [
        "t = Trie()\n",
        "length=int(input(\"How long is the word..!!? \"))\n",
        "t.getDictionary(length)\n",
        "our_word=input(\"Please input the first 'n' letters(eg: a or ar or arm ) of the word to solve: \")\n",
        "t.query(our_word)"
      ],
      "metadata": {
        "colab": {
          "base_uri": "https://localhost:8080/"
        },
        "id": "2CkPoWaG3-Mu",
        "outputId": "d2b80684-cbf3-49f2-912e-b8aad9715621"
      },
      "execution_count": 19,
      "outputs": [
        {
          "name": "stdout",
          "output_type": "stream",
          "text": [
            "How long is the word..!!? 5\n",
            "Please input the first 'n' letters(eg: a or ar or arm ) of the word to solve: br\n"
          ]
        },
        {
          "output_type": "execute_result",
          "data": {
            "text/plain": [
              "['brain',\n",
              " 'brand',\n",
              " 'bread',\n",
              " 'break',\n",
              " 'brick',\n",
              " 'brief',\n",
              " 'bring',\n",
              " 'broad',\n",
              " 'brown',\n",
              " 'brush']"
            ]
          },
          "metadata": {},
          "execution_count": 19
        }
      ]
    }
  ]
}