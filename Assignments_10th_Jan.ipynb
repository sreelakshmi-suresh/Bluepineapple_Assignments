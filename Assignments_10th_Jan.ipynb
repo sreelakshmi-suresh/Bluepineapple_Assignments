{
  "cells": [
    {
      "cell_type": "markdown",
      "source": [
        "## Write a program to print all perfect numbers between 1 to n\n",
        "\n",
        "\n"
      ],
      "metadata": {
        "id": "GMcBmDFqAXSy"
      }
    },
    {
      "cell_type": "code",
      "execution_count": null,
      "metadata": {
        "colab": {
          "base_uri": "https://localhost:8080/"
        },
        "id": "xCQto36v2Gyd",
        "outputId": "d8d29bc1-4f11-400f-aaef-e2245bfbc4db"
      },
      "outputs": [
        {
          "name": "stdout",
          "output_type": "stream",
          "text": [
            "Enter the value of n till which you want to get the perfect numbers: \n",
            "10000\n",
            "Perfect numbers from 1 to 10000 are:\n",
            "6 28 496 8128 "
          ]
        }
      ],
      "source": [
        "# Function to check perfect number\n",
        "def check_if_perfect(n):\n",
        "    \n",
        "    if n< 1:\n",
        "        return False\n",
        "\n",
        "    sum_ = 0\n",
        "    \n",
        "    for i in range(1,n):\n",
        "        if n % i == 0:\n",
        "            sum_ += i\n",
        "\n",
        "    return sum_ == n\n",
        "\n",
        "no = int(input(\"Enter the value of n till which you want to get the perfect numbers: \\n\"))\n",
        "print('Perfect numbers from 1 to %d are:' %(no))\n",
        "for i in range(1, no+1):\n",
        "    if check_if_perfect(i):\n",
        "        print(i, end=' ')"
      ]
    },
    {
      "cell_type": "markdown",
      "source": [
        "## Find total occurrances of each digit(0-9)using function"
      ],
      "metadata": {
        "id": "nGip8TJMAkm_"
      }
    },
    {
      "cell_type": "code",
      "execution_count": null,
      "metadata": {
        "colab": {
          "base_uri": "https://localhost:8080/"
        },
        "id": "mwhxIyRm5Kdg",
        "outputId": "69a4dee8-9311-4454-98c5-8208b9f7f0f2"
      },
      "outputs": [
        {
          "name": "stdout",
          "output_type": "stream",
          "text": [
            "Enter the number: 2564785\n",
            "The number 2 occurred 1 times\n",
            "The number 4 occurred 1 times\n",
            "The number 5 occurred 2 times\n",
            "The number 6 occurred 1 times\n",
            "The number 7 occurred 1 times\n",
            "The number 8 occurred 1 times\n"
          ]
        }
      ],
      "source": [
        "#Find total occurrence of each didgit using function\n",
        "number = int(input(\"Enter the number: \"))\n",
        "def check_occurrence(n):\n",
        "  for digit in range(1,10):\n",
        "    count = 0\n",
        "    temp = number\n",
        "    while temp > 0:\n",
        "        i = temp % 10\n",
        "        if i == digit:\n",
        "            count=count+1\n",
        "        temp=temp//10;\n",
        "    if count>0:\n",
        "        print(\"The number %d occurred %d times\"%(digit,count))\n",
        "\n",
        "check_occurrence(number)\n"
      ]
    },
    {
      "cell_type": "markdown",
      "source": [
        "## Write a program to convert number into words."
      ],
      "metadata": {
        "id": "4hcYmujbAxF8"
      }
    },
    {
      "cell_type": "markdown",
      "source": [
        "Using num2words library"
      ],
      "metadata": {
        "id": "7NTpWG8oA3IQ"
      }
    },
    {
      "cell_type": "code",
      "execution_count": null,
      "metadata": {
        "colab": {
          "base_uri": "https://localhost:8080/"
        },
        "id": "w9keZhKd_OGx",
        "outputId": "ac04f618-6312-431b-c395-5cdc132b7429"
      },
      "outputs": [
        {
          "name": "stdout",
          "output_type": "stream",
          "text": [
            "Collecting num2words\n",
            "  Downloading num2words-0.5.10-py3-none-any.whl (101 kB)\n",
            "\u001b[?25l\r\u001b[K     |███▎                            | 10 kB 24.0 MB/s eta 0:00:01\r\u001b[K     |██████▌                         | 20 kB 11.2 MB/s eta 0:00:01\r\u001b[K     |█████████▊                      | 30 kB 8.8 MB/s eta 0:00:01\r\u001b[K     |█████████████                   | 40 kB 8.2 MB/s eta 0:00:01\r\u001b[K     |████████████████▏               | 51 kB 5.1 MB/s eta 0:00:01\r\u001b[K     |███████████████████▍            | 61 kB 5.2 MB/s eta 0:00:01\r\u001b[K     |██████████████████████▋         | 71 kB 5.3 MB/s eta 0:00:01\r\u001b[K     |█████████████████████████▉      | 81 kB 6.0 MB/s eta 0:00:01\r\u001b[K     |█████████████████████████████   | 92 kB 4.6 MB/s eta 0:00:01\r\u001b[K     |████████████████████████████████| 101 kB 3.6 MB/s \n",
            "\u001b[?25hRequirement already satisfied: docopt>=0.6.2 in /usr/local/lib/python3.7/dist-packages (from num2words) (0.6.2)\n",
            "Installing collected packages: num2words\n",
            "Successfully installed num2words-0.5.10\n"
          ]
        }
      ],
      "source": [
        "pip install num2words"
      ]
    },
    {
      "cell_type": "code",
      "execution_count": null,
      "metadata": {
        "colab": {
          "base_uri": "https://localhost:8080/",
          "height": 53
        },
        "id": "U7jkoGBM9AJN",
        "outputId": "8a41fe21-cfb7-4c40-e4d9-036026ec701f"
      },
      "outputs": [
        {
          "name": "stdout",
          "output_type": "stream",
          "text": [
            "Enter a number: 6582565\n"
          ]
        },
        {
          "data": {
            "application/vnd.google.colaboratory.intrinsic+json": {
              "type": "string"
            },
            "text/plain": [
              "'six million, five hundred and eighty-two thousand, five hundred and sixty-five'"
            ]
          },
          "execution_count": 11,
          "metadata": {},
          "output_type": "execute_result"
        }
      ],
      "source": [
        "from num2words import num2words\n",
        "number = int(input(\"Enter a number: \"))\n",
        "num2words(number)"
      ]
    },
    {
      "cell_type": "markdown",
      "source": [
        "Without using any library"
      ],
      "metadata": {
        "id": "8BQ6dRutBD07"
      }
    },
    {
      "cell_type": "code",
      "execution_count": null,
      "metadata": {
        "id": "qxk_gxlkBD_9",
        "colab": {
          "base_uri": "https://localhost:8080/",
          "height": 35
        },
        "outputId": "3ee2b271-87ab-4a50-ae23-ec0f0ba115a5"
      },
      "outputs": [
        {
          "output_type": "execute_result",
          "data": {
            "application/vnd.google.colaboratory.intrinsic+json": {
              "type": "string"
            },
            "text/plain": [
              "''"
            ]
          },
          "metadata": {},
          "execution_count": 22
        }
      ],
      "source": [
        "ones = [\"\", \"one \",\"two \",\"three \",\"four \", \"five \", \"six \",\"seven \",\"eight \",\"nine \",\"ten \",\"eleven \",\"twelve \", \"thirteen \", \"fourteen \", \"fifteen \",\"sixteen \",\"seventeen \", \"eighteen \",\"nineteen \"] \n",
        " \n",
        "tens = [\"\",\"\",\"twenty \",\"thirty \",\"forty \", \"fifty \",\"sixty \",\"seventy \",\"eighty \",\"ninety \"] \n",
        " \n",
        "thousands = [\"\",\"thousand \",\"million \", \"billion \", \"trillion \", \"quadrillion \", \"quintillion \", \"sextillion \", \"septillion \",\"octillion \", \"nonillion \", \"decillion \", \"undecillion \", \"duodecillion \", \"tredecillion \", \"quattuordecillion \", \"quindecillion\", \"sexdecillion \", \"septendecillion \", \"octodecillion \", \"novemdecillion \", \"vigintillion \"] \n",
        "#thousands[0]"
      ]
    },
    {
      "cell_type": "code",
      "execution_count": null,
      "metadata": {
        "id": "pHmHkugLBGP8",
        "colab": {
          "base_uri": "https://localhost:8080/",
          "height": 35
        },
        "outputId": "bf512546-a075-4e38-f702-d89fa5ffc17c"
      },
      "outputs": [
        {
          "output_type": "execute_result",
          "data": {
            "application/vnd.google.colaboratory.intrinsic+json": {
              "type": "string"
            },
            "text/plain": [
              "'two hundred five '"
            ]
          },
          "metadata": {},
          "execution_count": 65
        }
      ],
      "source": [
        "def number(n):\n",
        "  a = n%10\n",
        "  b =int(((n % 100)-a)/10)\n",
        "  c =int(((n % 1000) - (b * 10) - a) / 100 )\n",
        "  unit = \"\"\n",
        "  ten = \"\"\n",
        "  hundreds =\"\"\n",
        "  if c!=0 :\n",
        "    hundreds = ones[c] + \"hundred \"\n",
        "  if b<=1 :\n",
        "    ten = ones[n%100]\n",
        "  if b > 1:\n",
        "    ten = tens[b]+ones[c]\n",
        "  \n",
        "  wr = str(hundreds+ten)\n",
        "\n",
        "  return wr\n",
        "\n",
        "  #print(wr)\n",
        "\n",
        "#number(205)"
      ]
    },
    {
      "cell_type": "code",
      "execution_count": 77,
      "metadata": {
        "id": "ONxVVqT3JYEI"
      },
      "outputs": [],
      "source": [
        "def covertor(num):\n",
        "  if num == 0:\n",
        "    print(\"Zero\")\n",
        "  wrd=\"\" \n",
        "  counter = 0\n",
        "  i = 3\n",
        "  no = str(num)\n",
        "  #if(len(no)<=3):\n",
        "   # wrd= number(num)\n",
        "  #return wrd\n",
        "  #else\n",
        "  while(i==3):\n",
        "    n = no[-i:]\n",
        "    no = no[:-i]\n",
        "    if n ==0:\n",
        "      wrd = number(int(n))+thousands[int(n)]+wrd\n",
        "    else:\n",
        "     wrd = number(int(n))+thousands[counter]+wrd\n",
        "     #print(thousands[0])\n",
        "    if no == '':\n",
        "      i = i + 1\n",
        "    counter= counter + 1\n",
        "  return wrd"
      ]
    },
    {
      "cell_type": "code",
      "execution_count": 79,
      "metadata": {
        "colab": {
          "base_uri": "https://localhost:8080/",
          "height": 53
        },
        "id": "Frjz1F4UOKWL",
        "outputId": "e1272b6c-b0a2-41d8-e604-cdd170036c13"
      },
      "outputs": [
        {
          "name": "stdout",
          "output_type": "stream",
          "text": [
            "Enter any number 526856\n"
          ]
        },
        {
          "output_type": "execute_result",
          "data": {
            "application/vnd.google.colaboratory.intrinsic+json": {
              "type": "string"
            },
            "text/plain": [
              "'five hundred twenty five thousand eight hundred fifty eight '"
            ]
          },
          "metadata": {},
          "execution_count": 79
        }
      ],
      "source": [
        "my_number =int(input(\"Enter any number \"))\n",
        "covertor(my_number)"
      ]
    }
  ],
  "metadata": {
    "colab": {
      "collapsed_sections": [],
      "name": "Assignments_10th Jan.ipynb",
      "provenance": []
    },
    "kernelspec": {
      "display_name": "Python 3",
      "name": "python3"
    },
    "language_info": {
      "name": "python"
    }
  },
  "nbformat": 4,
  "nbformat_minor": 0
}