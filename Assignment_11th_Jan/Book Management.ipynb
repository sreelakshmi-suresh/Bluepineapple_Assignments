{
  "nbformat": 4,
  "nbformat_minor": 0,
  "metadata": {
    "colab": {
      "name": "Untitled5.ipynb",
      "provenance": []
    },
    "kernelspec": {
      "name": "python3",
      "display_name": "Python 3"
    },
    "language_info": {
      "name": "python"
    }
  },
  "cells": [
    {
      "cell_type": "code",
      "execution_count": 29,
      "metadata": {
        "id": "EiY5lOUmxum_"
      },
      "outputs": [],
      "source": [
        "def menu():\n",
        "    print('---------------------------------------------------')\n",
        "    print('Welcome! What would you like to do today?')\n",
        "    print('---------------------------------------------------')\n",
        "    print('1: Insert a book')\n",
        "    print('2: Search a book')\n",
        "    print('3: List all books')\n",
        "    print('4: Delete a book')\n",
        "    print('5: Exit')\n",
        "    ch = int(input(\"Enter choice: \"))\n",
        "    select(ch)"
      ]
    },
    {
      "cell_type": "code",
      "source": [
        "records = {}\n",
        "def select(ch):\n",
        "  if ch == 1:\n",
        "    add_books()\n",
        "  elif ch == 2:\n",
        "    search()\n",
        "  elif ch == 3:\n",
        "    list_books()\n",
        "  elif ch == 4:\n",
        "    delete_book()\n",
        "  elif ch == 5:\n",
        "    exit()\n",
        "  else:\n",
        "    print(\"Enter the valid choice!\")\n",
        "    menu()\n"
      ],
      "metadata": {
        "id": "oJ8PXlmo-xPF"
      },
      "execution_count": 30,
      "outputs": []
    },
    {
      "cell_type": "code",
      "source": [
        "def add_books():\n",
        "  id=int(input(\"Enter the id of the book:\"))\n",
        "  bk_name= input(\"Enter the name of the book:\")\n",
        "  records[id]=bk_name\n",
        "  print(id,\":\",bk_name, \"successfully added!!\")\n",
        "  ip=(input(\"Do you want to continue(y/n)?: \"))\n",
        "  if ip== 'y' or ip== 'Y':\n",
        "    menu()\n",
        "  else:\n",
        "    exit()  \n",
        "\n",
        "#add_books()"
      ],
      "metadata": {
        "id": "Mz91rKkXBwRH"
      },
      "execution_count": 31,
      "outputs": []
    },
    {
      "cell_type": "code",
      "source": [
        "def search():\n",
        "  ans=int(input(\"\\n 1: Serach with id \\n 2: Search with book name\\n\"))\n",
        "  if ans == 1:\n",
        "    id=int(input(\"Enter the id: \"))\n",
        "    if id in records:\n",
        "      print(id,\":\",records[id],\"Book is present\")\n",
        "    else:\n",
        "      print(\"Book not present!!\")\n",
        "  elif ans== 2:\n",
        "    bname=input(\"Enter the book: \")\n",
        "    if bname.lower() in records.values():\n",
        "      print(\"Book is present!!\")\n",
        "    else:\n",
        "      print(\"Book is not present!!\")\n",
        "  else:\n",
        "    print(\"Enter a valid input.\")\n",
        "  ip=(input(\"Do you want to continue(y/n)?: \"))\n",
        "  if ip== 'y' or ip== 'Y':\n",
        "    menu()\n",
        "  else:\n",
        "    exit()\n"
      ],
      "metadata": {
        "id": "tZM1WYPtDMQp"
      },
      "execution_count": 36,
      "outputs": []
    },
    {
      "cell_type": "code",
      "source": [
        "def list_books():\n",
        "  print(\"The list of all books:\\n\")\n",
        "  for key in records:\n",
        "    print(key, \" | \",records[key])\n",
        "  ip=(input(\"Do you want to continue(y/n)?: \"))\n",
        "  if ip== 'y' or ip== 'Y':\n",
        "    menu()\n",
        "  else:\n",
        "    exit()\n"
      ],
      "metadata": {
        "id": "sUaQz8KjIm98"
      },
      "execution_count": 33,
      "outputs": []
    },
    {
      "cell_type": "code",
      "source": [
        "def delete_book():\n",
        "  id= int(input(\"Enter the id of the book to be deleted.\"))\n",
        "  if id in records.keys():\n",
        "    #for key in records.keys():\n",
        "    del records[id]\n",
        "    print(id, \"successfully deleted\")\n",
        "  else :\n",
        "    print(\"There is no such id.\")\n",
        "  ip=(input(\"Do you want to continue(y/n)?: \"))\n",
        "  if ip== 'y' or ip== 'Y':\n",
        "    menu()\n",
        "  else:\n",
        "    exit()\n"
      ],
      "metadata": {
        "id": "qC7dZdz0LOGb"
      },
      "execution_count": 34,
      "outputs": []
    },
    {
      "cell_type": "code",
      "source": [
        "menu()"
      ],
      "metadata": {
        "colab": {
          "base_uri": "https://localhost:8080/"
        },
        "id": "q2sz1spcC4FV",
        "outputId": "d199d368-8b2d-455a-e0c1-43409020db69"
      },
      "execution_count": 37,
      "outputs": [
        {
          "name": "stdout",
          "output_type": "stream",
          "text": [
            "---------------------------------------------------\n",
            "Welcome! What would you like to do today?\n",
            "---------------------------------------------------\n",
            "1: Insert a book\n",
            "2: Search a book\n",
            "3: List all books\n",
            "4: Delete a book\n",
            "5: Exit\n",
            "Enter choice: 1\n",
            "Enter the id of the book:5\n",
            "Enter the name of the book:All is fair in love and war\n",
            "5 : All is fair in love and war successfully added!!\n",
            "Do you want to continue(y/n)?: y\n",
            "---------------------------------------------------\n",
            "Welcome! What would you like to do today?\n",
            "---------------------------------------------------\n",
            "1: Insert a book\n",
            "2: Search a book\n",
            "3: List all books\n",
            "4: Delete a book\n",
            "5: Exit\n",
            "Enter choice: 2\n",
            "\n",
            " 1: Serach with id \n",
            " 2: Search with book name\n",
            "1\n",
            "Enter the id: 5\n",
            "5 : All is fair in love and war Book is present\n",
            "Do you want to continue(y/n)?: y\n",
            "---------------------------------------------------\n",
            "Welcome! What would you like to do today?\n",
            "---------------------------------------------------\n",
            "1: Insert a book\n",
            "2: Search a book\n",
            "3: List all books\n",
            "4: Delete a book\n",
            "5: Exit\n",
            "Enter choice: 3\n",
            "The list of all books:\n",
            "\n",
            "1  |  Pride and Prejudice\n",
            "2  |  Hamlet\n",
            "3  |  The Giver\n",
            "5  |  All is fair in love and war\n",
            "Do you want to continue(y/n)?: y\n",
            "---------------------------------------------------\n",
            "Welcome! What would you like to do today?\n",
            "---------------------------------------------------\n",
            "1: Insert a book\n",
            "2: Search a book\n",
            "3: List all books\n",
            "4: Delete a book\n",
            "5: Exit\n",
            "Enter choice: 1\n",
            "Enter the id of the book:4\n",
            "Enter the name of the book:The Alchemist\n",
            "4 : The Alchemist successfully added!!\n",
            "Do you want to continue(y/n)?: y\n",
            "---------------------------------------------------\n",
            "Welcome! What would you like to do today?\n",
            "---------------------------------------------------\n",
            "1: Insert a book\n",
            "2: Search a book\n",
            "3: List all books\n",
            "4: Delete a book\n",
            "5: Exit\n",
            "Enter choice: 5\n"
          ]
        }
      ]
    }
  ]
}